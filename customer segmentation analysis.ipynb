{
 "cells": [
  {
   "cell_type": "markdown",
   "id": "d877f10c",
   "metadata": {
    "papermill": {
     "duration": 0.006711,
     "end_time": "2023-05-31T03:27:12.207091",
     "exception": false,
     "start_time": "2023-05-31T03:27:12.200380",
     "status": "completed"
    },
    "tags": []
   },
   "source": [
    "**Customer Segmentation Analysis using KMeans Clustering**\n"
   ]
  },
  {
   "cell_type": "markdown",
   "id": "cda95abc",
   "metadata": {
    "papermill": {
     "duration": 0.005675,
     "end_time": "2023-05-31T03:27:12.218773",
     "exception": false,
     "start_time": "2023-05-31T03:27:12.213098",
     "status": "completed"
    },
    "tags": []
   },
   "source": [
    "> **Step 1. Import all libraries and open data source**"
   ]
  },
  {
   "cell_type": "code",
   "execution_count": 1,
   "id": "7f51658c",
   "metadata": {
    "execution": {
     "iopub.execute_input": "2023-05-31T03:27:12.232165Z",
     "iopub.status.busy": "2023-05-31T03:27:12.231798Z",
     "iopub.status.idle": "2023-05-31T03:27:14.398110Z",
     "shell.execute_reply": "2023-05-31T03:27:14.396670Z"
    },
    "papermill": {
     "duration": 2.176159,
     "end_time": "2023-05-31T03:27:14.400817",
     "exception": false,
     "start_time": "2023-05-31T03:27:12.224658",
     "status": "completed"
    },
    "tags": []
   },
   "outputs": [],
   "source": [
    "#Import all library we will used\n",
    "\n",
    "import pandas as pd                    # For working with data sets and perform data analysis\n",
    "import numpy as np                     # To perform mathematical operasion and statistics\n",
    "import matplotlib.pyplot as plt        # To create data visualization\n",
    "import seaborn as sns                  # To create data visualization\n",
    "from sklearn.preprocessing import MinMaxScaler, StandardScaler, RobustScaler\n",
    "from sklearn import cluster\n",
    "from sklearn.cluster import KMeans                                         \n",
    "from sklearn.metrics import silhouette_samples, silhouette_score              "
   ]
  },
  {
   "cell_type": "code",
   "execution_count": 2,
   "id": "e6d2ad7a",
   "metadata": {
    "execution": {
     "iopub.execute_input": "2023-05-31T03:27:14.416262Z",
     "iopub.status.busy": "2023-05-31T03:27:14.415953Z",
     "iopub.status.idle": "2023-05-31T03:27:14.467431Z",
     "shell.execute_reply": "2023-05-31T03:27:14.466824Z"
    },
    "papermill": {
     "duration": 0.061195,
     "end_time": "2023-05-31T03:27:14.469551",
     "exception": false,
     "start_time": "2023-05-31T03:27:14.408356",
     "status": "completed"
    },
    "tags": []
   },
   "outputs": [
    {
     "data": {
      "text/html": [
       "<div>\n",
       "<style scoped>\n",
       "    .dataframe tbody tr th:only-of-type {\n",
       "        vertical-align: middle;\n",
       "    }\n",
       "\n",
       "    .dataframe tbody tr th {\n",
       "        vertical-align: top;\n",
       "    }\n",
       "\n",
       "    .dataframe thead th {\n",
       "        text-align: right;\n",
       "    }\n",
       "</style>\n",
       "<table border=\"1\" class=\"dataframe\">\n",
       "  <thead>\n",
       "    <tr style=\"text-align: right;\">\n",
       "      <th></th>\n",
       "      <th>CustomerID</th>\n",
       "      <th>Gender</th>\n",
       "      <th>Age</th>\n",
       "      <th>Annual Income (k$)</th>\n",
       "      <th>Spending Score (1-100)</th>\n",
       "    </tr>\n",
       "  </thead>\n",
       "  <tbody>\n",
       "    <tr>\n",
       "      <th>0</th>\n",
       "      <td>1</td>\n",
       "      <td>Male</td>\n",
       "      <td>19</td>\n",
       "      <td>15</td>\n",
       "      <td>39</td>\n",
       "    </tr>\n",
       "    <tr>\n",
       "      <th>1</th>\n",
       "      <td>2</td>\n",
       "      <td>Male</td>\n",
       "      <td>21</td>\n",
       "      <td>15</td>\n",
       "      <td>81</td>\n",
       "    </tr>\n",
       "    <tr>\n",
       "      <th>2</th>\n",
       "      <td>3</td>\n",
       "      <td>Female</td>\n",
       "      <td>20</td>\n",
       "      <td>16</td>\n",
       "      <td>6</td>\n",
       "    </tr>\n",
       "    <tr>\n",
       "      <th>3</th>\n",
       "      <td>4</td>\n",
       "      <td>Female</td>\n",
       "      <td>23</td>\n",
       "      <td>16</td>\n",
       "      <td>77</td>\n",
       "    </tr>\n",
       "    <tr>\n",
       "      <th>4</th>\n",
       "      <td>5</td>\n",
       "      <td>Female</td>\n",
       "      <td>31</td>\n",
       "      <td>17</td>\n",
       "      <td>40</td>\n",
       "    </tr>\n",
       "  </tbody>\n",
       "</table>\n",
       "</div>"
      ],
      "text/plain": [
       "   CustomerID  Gender  Age  Annual Income (k$)  Spending Score (1-100)\n",
       "0           1    Male   19                  15                      39\n",
       "1           2    Male   21                  15                      81\n",
       "2           3  Female   20                  16                       6\n",
       "3           4  Female   23                  16                      77\n",
       "4           5  Female   31                  17                      40"
      ]
     },
     "execution_count": 2,
     "metadata": {},
     "output_type": "execute_result"
    }
   ],
   "source": [
    "#Open the data source\n",
    "df = pd.read_csv('Mall_Customers.csv')\n",
    "df.head()"
   ]
  },
  {
   "cell_type": "markdown",
   "id": "f4366ca5",
   "metadata": {
    "papermill": {
     "duration": 0.005947,
     "end_time": "2023-05-31T03:27:14.482054",
     "exception": false,
     "start_time": "2023-05-31T03:27:14.476107",
     "status": "completed"
    },
    "tags": []
   },
   "source": [
    "> **Step 2. Cleaning and Outlier Checking**"
   ]
  },
  {
   "cell_type": "code",
   "execution_count": 3,
   "id": "417e7d37",
   "metadata": {
    "execution": {
     "iopub.execute_input": "2023-05-31T03:27:14.496080Z",
     "iopub.status.busy": "2023-05-31T03:27:14.495465Z",
     "iopub.status.idle": "2023-05-31T03:27:14.517394Z",
     "shell.execute_reply": "2023-05-31T03:27:14.516308Z"
    },
    "papermill": {
     "duration": 0.031213,
     "end_time": "2023-05-31T03:27:14.519479",
     "exception": false,
     "start_time": "2023-05-31T03:27:14.488266",
     "status": "completed"
    },
    "tags": []
   },
   "outputs": [
    {
     "name": "stdout",
     "output_type": "stream",
     "text": [
      "<class 'pandas.core.frame.DataFrame'>\n",
      "RangeIndex: 200 entries, 0 to 199\n",
      "Data columns (total 5 columns):\n",
      " #   Column                  Non-Null Count  Dtype \n",
      "---  ------                  --------------  ----- \n",
      " 0   CustomerID              200 non-null    int64 \n",
      " 1   Gender                  200 non-null    object\n",
      " 2   Age                     200 non-null    int64 \n",
      " 3   Annual Income (k$)      200 non-null    int64 \n",
      " 4   Spending Score (1-100)  200 non-null    int64 \n",
      "dtypes: int64(4), object(1)\n",
      "memory usage: 7.9+ KB\n"
     ]
    }
   ],
   "source": [
    "#Check the data info\n",
    "df.info()"
   ]
  },
  {
   "cell_type": "markdown",
   "id": "4cb90684",
   "metadata": {
    "papermill": {
     "duration": 0.006128,
     "end_time": "2023-05-31T03:27:14.532598",
     "exception": false,
     "start_time": "2023-05-31T03:27:14.526470",
     "status": "completed"
    },
    "tags": []
   },
   "source": [
    "No-null and data type is correct, so we don't need to clean it up."
   ]
  },
  {
   "cell_type": "code",
   "execution_count": 4,
   "id": "7b39beb2",
   "metadata": {
    "execution": {
     "iopub.execute_input": "2023-05-31T03:27:14.546990Z",
     "iopub.status.busy": "2023-05-31T03:27:14.546379Z",
     "iopub.status.idle": "2023-05-31T03:27:14.569396Z",
     "shell.execute_reply": "2023-05-31T03:27:14.568019Z"
    },
    "papermill": {
     "duration": 0.032523,
     "end_time": "2023-05-31T03:27:14.571417",
     "exception": false,
     "start_time": "2023-05-31T03:27:14.538894",
     "status": "completed"
    },
    "tags": []
   },
   "outputs": [
    {
     "data": {
      "text/html": [
       "<div>\n",
       "<style scoped>\n",
       "    .dataframe tbody tr th:only-of-type {\n",
       "        vertical-align: middle;\n",
       "    }\n",
       "\n",
       "    .dataframe tbody tr th {\n",
       "        vertical-align: top;\n",
       "    }\n",
       "\n",
       "    .dataframe thead th {\n",
       "        text-align: right;\n",
       "    }\n",
       "</style>\n",
       "<table border=\"1\" class=\"dataframe\">\n",
       "  <thead>\n",
       "    <tr style=\"text-align: right;\">\n",
       "      <th></th>\n",
       "      <th>CustomerID</th>\n",
       "      <th>Age</th>\n",
       "      <th>Annual Income (k$)</th>\n",
       "      <th>Spending Score (1-100)</th>\n",
       "    </tr>\n",
       "  </thead>\n",
       "  <tbody>\n",
       "    <tr>\n",
       "      <th>count</th>\n",
       "      <td>200.000000</td>\n",
       "      <td>200.000000</td>\n",
       "      <td>200.000000</td>\n",
       "      <td>200.000000</td>\n",
       "    </tr>\n",
       "    <tr>\n",
       "      <th>mean</th>\n",
       "      <td>100.500000</td>\n",
       "      <td>38.850000</td>\n",
       "      <td>60.560000</td>\n",
       "      <td>50.200000</td>\n",
       "    </tr>\n",
       "    <tr>\n",
       "      <th>std</th>\n",
       "      <td>57.879185</td>\n",
       "      <td>13.969007</td>\n",
       "      <td>26.264721</td>\n",
       "      <td>25.823522</td>\n",
       "    </tr>\n",
       "    <tr>\n",
       "      <th>min</th>\n",
       "      <td>1.000000</td>\n",
       "      <td>18.000000</td>\n",
       "      <td>15.000000</td>\n",
       "      <td>1.000000</td>\n",
       "    </tr>\n",
       "    <tr>\n",
       "      <th>25%</th>\n",
       "      <td>50.750000</td>\n",
       "      <td>28.750000</td>\n",
       "      <td>41.500000</td>\n",
       "      <td>34.750000</td>\n",
       "    </tr>\n",
       "    <tr>\n",
       "      <th>50%</th>\n",
       "      <td>100.500000</td>\n",
       "      <td>36.000000</td>\n",
       "      <td>61.500000</td>\n",
       "      <td>50.000000</td>\n",
       "    </tr>\n",
       "    <tr>\n",
       "      <th>75%</th>\n",
       "      <td>150.250000</td>\n",
       "      <td>49.000000</td>\n",
       "      <td>78.000000</td>\n",
       "      <td>73.000000</td>\n",
       "    </tr>\n",
       "    <tr>\n",
       "      <th>max</th>\n",
       "      <td>200.000000</td>\n",
       "      <td>70.000000</td>\n",
       "      <td>137.000000</td>\n",
       "      <td>99.000000</td>\n",
       "    </tr>\n",
       "  </tbody>\n",
       "</table>\n",
       "</div>"
      ],
      "text/plain": [
       "       CustomerID         Age  Annual Income (k$)  Spending Score (1-100)\n",
       "count  200.000000  200.000000          200.000000              200.000000\n",
       "mean   100.500000   38.850000           60.560000               50.200000\n",
       "std     57.879185   13.969007           26.264721               25.823522\n",
       "min      1.000000   18.000000           15.000000                1.000000\n",
       "25%     50.750000   28.750000           41.500000               34.750000\n",
       "50%    100.500000   36.000000           61.500000               50.000000\n",
       "75%    150.250000   49.000000           78.000000               73.000000\n",
       "max    200.000000   70.000000          137.000000               99.000000"
      ]
     },
     "execution_count": 4,
     "metadata": {},
     "output_type": "execute_result"
    }
   ],
   "source": [
    "#Describe numerical data to check the distribution\n",
    "numeric = ['CustomerID', 'Age', 'Annual Income (k$)','Spending Score (1-100)']\n",
    "df[numeric].describe()"
   ]
  },
  {
   "cell_type": "code",
   "execution_count": 5,
   "id": "ea995a8f",
   "metadata": {
    "execution": {
     "iopub.execute_input": "2023-05-31T03:27:14.586466Z",
     "iopub.status.busy": "2023-05-31T03:27:14.585793Z",
     "iopub.status.idle": "2023-05-31T03:27:15.126012Z",
     "shell.execute_reply": "2023-05-31T03:27:15.125068Z"
    },
    "papermill": {
     "duration": 0.549856,
     "end_time": "2023-05-31T03:27:15.127908",
     "exception": false,
     "start_time": "2023-05-31T03:27:14.578052",
     "status": "completed"
    },
    "tags": []
   },
   "outputs": [
    {
     "data": {
      "image/png": "[encoded data removed]",
      "text/plain": [
       "<Figure size 2000x1000 with 4 Axes>"
      ]
     },
     "metadata": {},
     "output_type": "display_data"
    }
   ],
   "source": [
    "#Check the outlier in numerical data\n",
    "fig, axes = plt.subplots(nrows=1, ncols=4,figsize=(20,10))\n",
    "for i,el in enumerate(numeric): \n",
    "    a = df.boxplot(el, ax=axes.flatten()[i],grid=False)\n",
    "plt.show()"
   ]
  },
  {
   "cell_type": "markdown",
   "id": "19cc6937",
   "metadata": {
    "papermill": {
     "duration": 0.011089,
     "end_time": "2023-05-31T03:27:15.147775",
     "exception": false,
     "start_time": "2023-05-31T03:27:15.136686",
     "status": "completed"
    },
    "tags": []
   },
   "source": [
    "Since we only find outlier in annual income and the gap only about 15%, then we can ignore it."
   ]
  },
  {
   "cell_type": "markdown",
   "id": "dfbe2de2",
   "metadata": {
    "papermill": {
     "duration": 0.0075,
     "end_time": "2023-05-31T03:27:15.162974",
     "exception": false,
     "start_time": "2023-05-31T03:27:15.155474",
     "status": "completed"
    },
    "tags": []
   },
   "source": [
    "> **Step 3. Clustering**"
   ]
  },
  {
   "cell_type": "markdown",
   "id": "f1b395cb",
   "metadata": {
    "papermill": {
     "duration": 0.007177,
     "end_time": "2023-05-31T03:27:15.178133",
     "exception": false,
     "start_time": "2023-05-31T03:27:15.170956",
     "status": "completed"
    },
    "tags": []
   },
   "source": [
    "> > Data Preparation"
   ]
  },
  {
   "cell_type": "code",
   "execution_count": 6,
   "id": "b215a4b0",
   "metadata": {
    "execution": {
     "iopub.execute_input": "2023-05-31T03:27:15.195251Z",
     "iopub.status.busy": "2023-05-31T03:27:15.194891Z",
     "iopub.status.idle": "2023-05-31T03:27:15.211461Z",
     "shell.execute_reply": "2023-05-31T03:27:15.210636Z"
    },
    "papermill": {
     "duration": 0.027664,
     "end_time": "2023-05-31T03:27:15.213503",
     "exception": false,
     "start_time": "2023-05-31T03:27:15.185839",
     "status": "completed"
    },
    "tags": []
   },
   "outputs": [
    {
     "data": {
      "text/html": [
       "<div>\n",
       "<style scoped>\n",
       "    .dataframe tbody tr th:only-of-type {\n",
       "        vertical-align: middle;\n",
       "    }\n",
       "\n",
       "    .dataframe tbody tr th {\n",
       "        vertical-align: top;\n",
       "    }\n",
       "\n",
       "    .dataframe thead th {\n",
       "        text-align: right;\n",
       "    }\n",
       "</style>\n",
       "<table border=\"1\" class=\"dataframe\">\n",
       "  <thead>\n",
       "    <tr style=\"text-align: right;\">\n",
       "      <th></th>\n",
       "      <th>CustomerID</th>\n",
       "      <th>Gender</th>\n",
       "      <th>Age</th>\n",
       "      <th>Annual Income (k$)</th>\n",
       "      <th>Spending Score (1-100)</th>\n",
       "      <th>Gender_encoding</th>\n",
       "    </tr>\n",
       "  </thead>\n",
       "  <tbody>\n",
       "    <tr>\n",
       "      <th>0</th>\n",
       "      <td>1</td>\n",
       "      <td>Male</td>\n",
       "      <td>19</td>\n",
       "      <td>15</td>\n",
       "      <td>39</td>\n",
       "      <td>1</td>\n",
       "    </tr>\n",
       "    <tr>\n",
       "      <th>1</th>\n",
       "      <td>2</td>\n",
       "      <td>Male</td>\n",
       "      <td>21</td>\n",
       "      <td>15</td>\n",
       "      <td>81</td>\n",
       "      <td>1</td>\n",
       "    </tr>\n",
       "    <tr>\n",
       "      <th>2</th>\n",
       "      <td>3</td>\n",
       "      <td>Female</td>\n",
       "      <td>20</td>\n",
       "      <td>16</td>\n",
       "      <td>6</td>\n",
       "      <td>0</td>\n",
       "    </tr>\n",
       "    <tr>\n",
       "      <th>3</th>\n",
       "      <td>4</td>\n",
       "      <td>Female</td>\n",
       "      <td>23</td>\n",
       "      <td>16</td>\n",
       "      <td>77</td>\n",
       "      <td>0</td>\n",
       "    </tr>\n",
       "    <tr>\n",
       "      <th>4</th>\n",
       "      <td>5</td>\n",
       "      <td>Female</td>\n",
       "      <td>31</td>\n",
       "      <td>17</td>\n",
       "      <td>40</td>\n",
       "      <td>0</td>\n",
       "    </tr>\n",
       "    <tr>\n",
       "      <th>...</th>\n",
       "      <td>...</td>\n",
       "      <td>...</td>\n",
       "      <td>...</td>\n",
       "      <td>...</td>\n",
       "      <td>...</td>\n",
       "      <td>...</td>\n",
       "    </tr>\n",
       "    <tr>\n",
       "      <th>195</th>\n",
       "      <td>196</td>\n",
       "      <td>Female</td>\n",
       "      <td>35</td>\n",
       "      <td>120</td>\n",
       "      <td>79</td>\n",
       "      <td>0</td>\n",
       "    </tr>\n",
       "    <tr>\n",
       "      <th>196</th>\n",
       "      <td>197</td>\n",
       "      <td>Female</td>\n",
       "      <td>45</td>\n",
       "      <td>126</td>\n",
       "      <td>28</td>\n",
       "      <td>0</td>\n",
       "    </tr>\n",
       "    <tr>\n",
       "      <th>197</th>\n",
       "      <td>198</td>\n",
       "      <td>Male</td>\n",
       "      <td>32</td>\n",
       "      <td>126</td>\n",
       "      <td>74</td>\n",
       "      <td>1</td>\n",
       "    </tr>\n",
       "    <tr>\n",
       "      <th>198</th>\n",
       "      <td>199</td>\n",
       "      <td>Male</td>\n",
       "      <td>32</td>\n",
       "      <td>137</td>\n",
       "      <td>18</td>\n",
       "      <td>1</td>\n",
       "    </tr>\n",
       "    <tr>\n",
       "      <th>199</th>\n",
       "      <td>200</td>\n",
       "      <td>Male</td>\n",
       "      <td>30</td>\n",
       "      <td>137</td>\n",
       "      <td>83</td>\n",
       "      <td>1</td>\n",
       "    </tr>\n",
       "  </tbody>\n",
       "</table>\n",
       "<p>200 rows × 6 columns</p>\n",
       "</div>"
      ],
      "text/plain": [
       "     CustomerID  Gender  Age  Annual Income (k$)  Spending Score (1-100)  \\\n",
       "0             1    Male   19                  15                      39   \n",
       "1             2    Male   21                  15                      81   \n",
       "2             3  Female   20                  16                       6   \n",
       "3             4  Female   23                  16                      77   \n",
       "4             5  Female   31                  17                      40   \n",
       "..          ...     ...  ...                 ...                     ...   \n",
       "195         196  Female   35                 120                      79   \n",
       "196         197  Female   45                 126                      28   \n",
       "197         198    Male   32                 126                      74   \n",
       "198         199    Male   32                 137                      18   \n",
       "199         200    Male   30                 137                      83   \n",
       "\n",
       "     Gender_encoding  \n",
       "0                  1  \n",
       "1                  1  \n",
       "2                  0  \n",
       "3                  0  \n",
       "4                  0  \n",
       "..               ...  \n",
       "195                0  \n",
       "196                0  \n",
       "197                1  \n",
       "198                1  \n",
       "199                1  \n",
       "\n",
       "[200 rows x 6 columns]"
      ]
     },
     "execution_count": 6,
     "metadata": {},
     "output_type": "execute_result"
    }
   ],
   "source": [
    "#Create encoding for categorical data\n",
    "df['Gender'] = df['Gender'].astype('category')\n",
    "df['Gender_encoding'] = df['Gender'].cat.codes\n",
    "df"
   ]
  },
  {
   "cell_type": "markdown",
   "id": "9c5d5782",
   "metadata": {
    "papermill": {
     "duration": 0.006997,
     "end_time": "2023-05-31T03:27:15.227989",
     "exception": false,
     "start_time": "2023-05-31T03:27:15.220992",
     "status": "completed"
    },
    "tags": []
   },
   "source": [
    "> > KMeans method"
   ]
  },
  {
   "cell_type": "code",
   "execution_count": 7,
   "id": "c176fcbc",
   "metadata": {
    "execution": {
     "iopub.execute_input": "2023-05-31T03:27:15.243527Z",
     "iopub.status.busy": "2023-05-31T03:27:15.243229Z",
     "iopub.status.idle": "2023-05-31T03:27:15.698424Z",
     "shell.execute_reply": "2023-05-31T03:27:15.696912Z"
    },
    "papermill": {
     "duration": 0.466366,
     "end_time": "2023-05-31T03:27:15.701506",
     "exception": false,
     "start_time": "2023-05-31T03:27:15.235140",
     "status": "completed"
    },
    "tags": []
   },
   "outputs": [
    {
     "data": {
      "image/png": "[encoded data removed]",
      "text/plain": [
       "<Figure size 1600x800 with 1 Axes>"
      ]
     },
     "metadata": {},
     "output_type": "display_data"
    }
   ],
   "source": [
    "#Drop categorical data\n",
    "new_df = df.copy()\n",
    "new_df.drop(['Gender'],axis=1,inplace=True)\n",
    "\n",
    "# Fit KMeans clustering with different values of K\n",
    "inertias = []\n",
    "k_range =  [1, 2, 3, 4, 5, 6, 7, 8, 9,10]\n",
    "\n",
    "for k in k_range:\n",
    "  if k > 0:\n",
    "    kmeans = KMeans(n_clusters=k, init='k-means++')\n",
    "    kmeans.fit(new_df)\n",
    "    inertias.append(kmeans.inertia_)\n",
    "\n",
    "plt.figure(figsize=(16,8))\n",
    "plt.plot(k_range, inertias, marker='o')\n",
    "plt.title('Elbow Method')\n",
    "plt.xlabel('Number of Clusters (K)')\n",
    "plt.ylabel('Sum of Squared Distances (Inertia)')\n",
    "plt.show()"
   ]
  },
  {
   "cell_type": "markdown",
   "id": "56bf5d91",
   "metadata": {
    "papermill": {
     "duration": 0.0083,
     "end_time": "2023-05-31T03:27:15.718329",
     "exception": false,
     "start_time": "2023-05-31T03:27:15.710029",
     "status": "completed"
    },
    "tags": []
   },
   "source": [
    "Based on Elbow method we can see that 6,7, and 8 cluster that start the sloping in graph. Further we checked using **Silhoutte Method**."
   ]
  },
  {
   "cell_type": "markdown",
   "id": "96f8285d",
   "metadata": {
    "papermill": {
     "duration": 0.007709,
     "end_time": "2023-05-31T03:27:15.734166",
     "exception": false,
     "start_time": "2023-05-31T03:27:15.726457",
     "status": "completed"
    },
    "tags": []
   },
   "source": [
    "> > Silhoutte Method"
   ]
  },
  {
   "cell_type": "markdown",
   "id": "1f3c8fc4",
   "metadata": {
    "papermill": {
     "duration": 0.015208,
     "end_time": "2023-05-31T03:27:18.703247",
     "exception": false,
     "start_time": "2023-05-31T03:27:18.688039",
     "status": "completed"
    },
    "tags": []
   },
   "source": [
    "Final result on Silhouette method, we decide to choose **6 cluster** since coeff near to 1 (compared to others) and data distribution in cluster quite good."
   ]
  },
  {
   "cell_type": "markdown",
   "id": "026cc731",
   "metadata": {
    "papermill": {
     "duration": 0.0109,
     "end_time": "2023-05-31T03:27:20.189418",
     "exception": false,
     "start_time": "2023-05-31T03:27:20.178518",
     "status": "completed"
    },
    "tags": []
   },
   "source": [
    "> **Step 4. Segmentation**"
   ]
  },
  {
   "cell_type": "markdown",
   "id": "ffe9b709",
   "metadata": {
    "papermill": {
     "duration": 0.010896,
     "end_time": "2023-05-31T03:27:20.211511",
     "exception": false,
     "start_time": "2023-05-31T03:27:20.200615",
     "status": "completed"
    },
    "tags": []
   },
   "source": [
    "Implement cluster number of each data to new data set"
   ]
  },
  {
   "cell_type": "code",
   "execution_count": 8,
   "id": "0c2c4a36",
   "metadata": {
    "execution": {
     "iopub.execute_input": "2023-05-31T03:27:20.235489Z",
     "iopub.status.busy": "2023-05-31T03:27:20.235131Z",
     "iopub.status.idle": "2023-05-31T03:27:20.270392Z",
     "shell.execute_reply": "2023-05-31T03:27:20.269794Z"
    },
    "papermill": {
     "duration": 0.049703,
     "end_time": "2023-05-31T03:27:20.272304",
     "exception": false,
     "start_time": "2023-05-31T03:27:20.222601",
     "status": "completed"
    },
    "tags": []
   },
   "outputs": [
    {
     "data": {
      "text/html": [
       "<div>\n",
       "<style scoped>\n",
       "    .dataframe tbody tr th:only-of-type {\n",
       "        vertical-align: middle;\n",
       "    }\n",
       "\n",
       "    .dataframe tbody tr th {\n",
       "        vertical-align: top;\n",
       "    }\n",
       "\n",
       "    .dataframe thead th {\n",
       "        text-align: right;\n",
       "    }\n",
       "</style>\n",
       "<table border=\"1\" class=\"dataframe\">\n",
       "  <thead>\n",
       "    <tr style=\"text-align: right;\">\n",
       "      <th></th>\n",
       "      <th>CustomerID</th>\n",
       "      <th>Age</th>\n",
       "      <th>Annual Income (k$)</th>\n",
       "      <th>Spending Score (1-100)</th>\n",
       "      <th>Gender_encoding</th>\n",
       "      <th>cluster</th>\n",
       "    </tr>\n",
       "  </thead>\n",
       "  <tbody>\n",
       "    <tr>\n",
       "      <th>0</th>\n",
       "      <td>1</td>\n",
       "      <td>19</td>\n",
       "      <td>15</td>\n",
       "      <td>39</td>\n",
       "      <td>1</td>\n",
       "      <td>5</td>\n",
       "    </tr>\n",
       "    <tr>\n",
       "      <th>1</th>\n",
       "      <td>2</td>\n",
       "      <td>21</td>\n",
       "      <td>15</td>\n",
       "      <td>81</td>\n",
       "      <td>1</td>\n",
       "      <td>1</td>\n",
       "    </tr>\n",
       "    <tr>\n",
       "      <th>2</th>\n",
       "      <td>3</td>\n",
       "      <td>20</td>\n",
       "      <td>16</td>\n",
       "      <td>6</td>\n",
       "      <td>0</td>\n",
       "      <td>5</td>\n",
       "    </tr>\n",
       "    <tr>\n",
       "      <th>3</th>\n",
       "      <td>4</td>\n",
       "      <td>23</td>\n",
       "      <td>16</td>\n",
       "      <td>77</td>\n",
       "      <td>0</td>\n",
       "      <td>1</td>\n",
       "    </tr>\n",
       "    <tr>\n",
       "      <th>4</th>\n",
       "      <td>5</td>\n",
       "      <td>31</td>\n",
       "      <td>17</td>\n",
       "      <td>40</td>\n",
       "      <td>0</td>\n",
       "      <td>5</td>\n",
       "    </tr>\n",
       "    <tr>\n",
       "      <th>...</th>\n",
       "      <td>...</td>\n",
       "      <td>...</td>\n",
       "      <td>...</td>\n",
       "      <td>...</td>\n",
       "      <td>...</td>\n",
       "      <td>...</td>\n",
       "    </tr>\n",
       "    <tr>\n",
       "      <th>195</th>\n",
       "      <td>196</td>\n",
       "      <td>35</td>\n",
       "      <td>120</td>\n",
       "      <td>79</td>\n",
       "      <td>0</td>\n",
       "      <td>4</td>\n",
       "    </tr>\n",
       "    <tr>\n",
       "      <th>196</th>\n",
       "      <td>197</td>\n",
       "      <td>45</td>\n",
       "      <td>126</td>\n",
       "      <td>28</td>\n",
       "      <td>0</td>\n",
       "      <td>0</td>\n",
       "    </tr>\n",
       "    <tr>\n",
       "      <th>197</th>\n",
       "      <td>198</td>\n",
       "      <td>32</td>\n",
       "      <td>126</td>\n",
       "      <td>74</td>\n",
       "      <td>1</td>\n",
       "      <td>4</td>\n",
       "    </tr>\n",
       "    <tr>\n",
       "      <th>198</th>\n",
       "      <td>199</td>\n",
       "      <td>32</td>\n",
       "      <td>137</td>\n",
       "      <td>18</td>\n",
       "      <td>1</td>\n",
       "      <td>0</td>\n",
       "    </tr>\n",
       "    <tr>\n",
       "      <th>199</th>\n",
       "      <td>200</td>\n",
       "      <td>30</td>\n",
       "      <td>137</td>\n",
       "      <td>83</td>\n",
       "      <td>1</td>\n",
       "      <td>4</td>\n",
       "    </tr>\n",
       "  </tbody>\n",
       "</table>\n",
       "<p>200 rows × 6 columns</p>\n",
       "</div>"
      ],
      "text/plain": [
       "     CustomerID  Age  Annual Income (k$)  Spending Score (1-100)  \\\n",
       "0             1   19                  15                      39   \n",
       "1             2   21                  15                      81   \n",
       "2             3   20                  16                       6   \n",
       "3             4   23                  16                      77   \n",
       "4             5   31                  17                      40   \n",
       "..          ...  ...                 ...                     ...   \n",
       "195         196   35                 120                      79   \n",
       "196         197   45                 126                      28   \n",
       "197         198   32                 126                      74   \n",
       "198         199   32                 137                      18   \n",
       "199         200   30                 137                      83   \n",
       "\n",
       "     Gender_encoding  cluster  \n",
       "0                  1        5  \n",
       "1                  1        1  \n",
       "2                  0        5  \n",
       "3                  0        1  \n",
       "4                  0        5  \n",
       "..               ...      ...  \n",
       "195                0        4  \n",
       "196                0        0  \n",
       "197                1        4  \n",
       "198                1        0  \n",
       "199                1        4  \n",
       "\n",
       "[200 rows x 6 columns]"
      ]
     },
     "execution_count": 8,
     "metadata": {},
     "output_type": "execute_result"
    }
   ],
   "source": [
    "#implement clustering Kmeans dengan N Cluster = 6\n",
    "cluster_model = cluster.KMeans(n_clusters=6, random_state = 42)\n",
    "cluster_model.fit(new_df)\n",
    "cluster_label = cluster_model.labels_\n",
    "\n",
    "new_df['cluster'] = cluster_label\n",
    "new_df"
   ]
  },
  {
   "cell_type": "code",
   "execution_count": 9,
   "id": "45cc2fd7",
   "metadata": {
    "execution": {
     "iopub.execute_input": "2023-05-31T03:27:20.297291Z",
     "iopub.status.busy": "2023-05-31T03:27:20.296962Z",
     "iopub.status.idle": "2023-05-31T03:27:20.320721Z",
     "shell.execute_reply": "2023-05-31T03:27:20.319831Z"
    },
    "papermill": {
     "duration": 0.038238,
     "end_time": "2023-05-31T03:27:20.322403",
     "exception": false,
     "start_time": "2023-05-31T03:27:20.284165",
     "status": "completed"
    },
    "tags": []
   },
   "outputs": [
    {
     "ename": "KeyError",
     "evalue": "\"['label3'] not found in axis\"",
     "output_type": "error",
     "traceback": [
      "\u001b[1;31m---------------------------------------------------------------------------\u001b[0m",
      "\u001b[1;31mKeyError\u001b[0m                                  Traceback (most recent call last)",
      "Cell \u001b[1;32mIn[9], line 3\u001b[0m\n\u001b[0;32m      1\u001b[0m \u001b[38;5;66;03m#Merged df with cluster data from new_df\u001b[39;00m\n\u001b[0;32m      2\u001b[0m sg_df \u001b[38;5;241m=\u001b[39m df\u001b[38;5;241m.\u001b[39mmerge(new_df, how\u001b[38;5;241m=\u001b[39m\u001b[38;5;124m'\u001b[39m\u001b[38;5;124mleft\u001b[39m\u001b[38;5;124m'\u001b[39m, on\u001b[38;5;241m=\u001b[39m\u001b[38;5;124m'\u001b[39m\u001b[38;5;124mCustomerID\u001b[39m\u001b[38;5;124m'\u001b[39m)\n\u001b[1;32m----> 3\u001b[0m \u001b[43msg_df\u001b[49m\u001b[38;5;241;43m.\u001b[39;49m\u001b[43mdrop\u001b[49m\u001b[43m(\u001b[49m\u001b[43m[\u001b[49m\u001b[38;5;124;43m'\u001b[39;49m\u001b[38;5;124;43mlabel3\u001b[39;49m\u001b[38;5;124;43m'\u001b[39;49m\u001b[43m,\u001b[49m\u001b[38;5;124;43m'\u001b[39;49m\u001b[38;5;124;43mAge_y\u001b[39;49m\u001b[38;5;124;43m'\u001b[39;49m\u001b[43m,\u001b[49m\u001b[38;5;124;43m'\u001b[39;49m\u001b[38;5;124;43mAnnual Income (k$)_y\u001b[39;49m\u001b[38;5;124;43m'\u001b[39;49m\u001b[43m,\u001b[49m\u001b[38;5;124;43m'\u001b[39;49m\u001b[38;5;124;43mSpending Score (1-100)_y\u001b[39;49m\u001b[38;5;124;43m'\u001b[39;49m\u001b[43m,\u001b[49m\u001b[38;5;124;43m'\u001b[39;49m\u001b[38;5;124;43mGender_encoding_y\u001b[39;49m\u001b[38;5;124;43m'\u001b[39;49m\u001b[43m]\u001b[49m\u001b[43m,\u001b[49m\u001b[43maxis\u001b[49m\u001b[38;5;241;43m=\u001b[39;49m\u001b[38;5;241;43m1\u001b[39;49m\u001b[43m,\u001b[49m\u001b[43minplace\u001b[49m\u001b[38;5;241;43m=\u001b[39;49m\u001b[38;5;28;43;01mTrue\u001b[39;49;00m\u001b[43m)\u001b[49m\n\u001b[0;32m      4\u001b[0m sg_df\n",
      "File \u001b[1;32mF:\\anaconda\\envs\\datpra\\lib\\site-packages\\pandas\\util\\_decorators.py:331\u001b[0m, in \u001b[0;36mdeprecate_nonkeyword_arguments.<locals>.decorate.<locals>.wrapper\u001b[1;34m(*args, **kwargs)\u001b[0m\n\u001b[0;32m    325\u001b[0m \u001b[38;5;28;01mif\u001b[39;00m \u001b[38;5;28mlen\u001b[39m(args) \u001b[38;5;241m>\u001b[39m num_allow_args:\n\u001b[0;32m    326\u001b[0m     warnings\u001b[38;5;241m.\u001b[39mwarn(\n\u001b[0;32m    327\u001b[0m         msg\u001b[38;5;241m.\u001b[39mformat(arguments\u001b[38;5;241m=\u001b[39m_format_argument_list(allow_args)),\n\u001b[0;32m    328\u001b[0m         \u001b[38;5;167;01mFutureWarning\u001b[39;00m,\n\u001b[0;32m    329\u001b[0m         stacklevel\u001b[38;5;241m=\u001b[39mfind_stack_level(),\n\u001b[0;32m    330\u001b[0m     )\n\u001b[1;32m--> 331\u001b[0m \u001b[38;5;28;01mreturn\u001b[39;00m func(\u001b[38;5;241m*\u001b[39margs, \u001b[38;5;241m*\u001b[39m\u001b[38;5;241m*\u001b[39mkwargs)\n",
      "File \u001b[1;32mF:\\anaconda\\envs\\datpra\\lib\\site-packages\\pandas\\core\\frame.py:5396\u001b[0m, in \u001b[0;36mDataFrame.drop\u001b[1;34m(self, labels, axis, index, columns, level, inplace, errors)\u001b[0m\n\u001b[0;32m   5248\u001b[0m \u001b[38;5;129m@deprecate_nonkeyword_arguments\u001b[39m(version\u001b[38;5;241m=\u001b[39m\u001b[38;5;28;01mNone\u001b[39;00m, allowed_args\u001b[38;5;241m=\u001b[39m[\u001b[38;5;124m\"\u001b[39m\u001b[38;5;124mself\u001b[39m\u001b[38;5;124m\"\u001b[39m, \u001b[38;5;124m\"\u001b[39m\u001b[38;5;124mlabels\u001b[39m\u001b[38;5;124m\"\u001b[39m])\n\u001b[0;32m   5249\u001b[0m \u001b[38;5;28;01mdef\u001b[39;00m \u001b[38;5;21mdrop\u001b[39m(  \u001b[38;5;66;03m# type: ignore[override]\u001b[39;00m\n\u001b[0;32m   5250\u001b[0m     \u001b[38;5;28mself\u001b[39m,\n\u001b[1;32m   (...)\u001b[0m\n\u001b[0;32m   5257\u001b[0m     errors: IgnoreRaise \u001b[38;5;241m=\u001b[39m \u001b[38;5;124m\"\u001b[39m\u001b[38;5;124mraise\u001b[39m\u001b[38;5;124m\"\u001b[39m,\n\u001b[0;32m   5258\u001b[0m ) \u001b[38;5;241m-\u001b[39m\u001b[38;5;241m>\u001b[39m DataFrame \u001b[38;5;241m|\u001b[39m \u001b[38;5;28;01mNone\u001b[39;00m:\n\u001b[0;32m   5259\u001b[0m     \u001b[38;5;124;03m\"\"\"\u001b[39;00m\n\u001b[0;32m   5260\u001b[0m \u001b[38;5;124;03m    Drop specified labels from rows or columns.\u001b[39;00m\n\u001b[0;32m   5261\u001b[0m \n\u001b[1;32m   (...)\u001b[0m\n\u001b[0;32m   5394\u001b[0m \u001b[38;5;124;03m            weight  1.0     0.8\u001b[39;00m\n\u001b[0;32m   5395\u001b[0m \u001b[38;5;124;03m    \"\"\"\u001b[39;00m\n\u001b[1;32m-> 5396\u001b[0m     \u001b[38;5;28;01mreturn\u001b[39;00m \u001b[38;5;28;43msuper\u001b[39;49m\u001b[43m(\u001b[49m\u001b[43m)\u001b[49m\u001b[38;5;241;43m.\u001b[39;49m\u001b[43mdrop\u001b[49m\u001b[43m(\u001b[49m\n\u001b[0;32m   5397\u001b[0m \u001b[43m        \u001b[49m\u001b[43mlabels\u001b[49m\u001b[38;5;241;43m=\u001b[39;49m\u001b[43mlabels\u001b[49m\u001b[43m,\u001b[49m\n\u001b[0;32m   5398\u001b[0m \u001b[43m        \u001b[49m\u001b[43maxis\u001b[49m\u001b[38;5;241;43m=\u001b[39;49m\u001b[43maxis\u001b[49m\u001b[43m,\u001b[49m\n\u001b[0;32m   5399\u001b[0m \u001b[43m        \u001b[49m\u001b[43mindex\u001b[49m\u001b[38;5;241;43m=\u001b[39;49m\u001b[43mindex\u001b[49m\u001b[43m,\u001b[49m\n\u001b[0;32m   5400\u001b[0m \u001b[43m        \u001b[49m\u001b[43mcolumns\u001b[49m\u001b[38;5;241;43m=\u001b[39;49m\u001b[43mcolumns\u001b[49m\u001b[43m,\u001b[49m\n\u001b[0;32m   5401\u001b[0m \u001b[43m        \u001b[49m\u001b[43mlevel\u001b[49m\u001b[38;5;241;43m=\u001b[39;49m\u001b[43mlevel\u001b[49m\u001b[43m,\u001b[49m\n\u001b[0;32m   5402\u001b[0m \u001b[43m        \u001b[49m\u001b[43minplace\u001b[49m\u001b[38;5;241;43m=\u001b[39;49m\u001b[43minplace\u001b[49m\u001b[43m,\u001b[49m\n\u001b[0;32m   5403\u001b[0m \u001b[43m        \u001b[49m\u001b[43merrors\u001b[49m\u001b[38;5;241;43m=\u001b[39;49m\u001b[43merrors\u001b[49m\u001b[43m,\u001b[49m\n\u001b[0;32m   5404\u001b[0m \u001b[43m    \u001b[49m\u001b[43m)\u001b[49m\n",
      "File \u001b[1;32mF:\\anaconda\\envs\\datpra\\lib\\site-packages\\pandas\\util\\_decorators.py:331\u001b[0m, in \u001b[0;36mdeprecate_nonkeyword_arguments.<locals>.decorate.<locals>.wrapper\u001b[1;34m(*args, **kwargs)\u001b[0m\n\u001b[0;32m    325\u001b[0m \u001b[38;5;28;01mif\u001b[39;00m \u001b[38;5;28mlen\u001b[39m(args) \u001b[38;5;241m>\u001b[39m num_allow_args:\n\u001b[0;32m    326\u001b[0m     warnings\u001b[38;5;241m.\u001b[39mwarn(\n\u001b[0;32m    327\u001b[0m         msg\u001b[38;5;241m.\u001b[39mformat(arguments\u001b[38;5;241m=\u001b[39m_format_argument_list(allow_args)),\n\u001b[0;32m    328\u001b[0m         \u001b[38;5;167;01mFutureWarning\u001b[39;00m,\n\u001b[0;32m    329\u001b[0m         stacklevel\u001b[38;5;241m=\u001b[39mfind_stack_level(),\n\u001b[0;32m    330\u001b[0m     )\n\u001b[1;32m--> 331\u001b[0m \u001b[38;5;28;01mreturn\u001b[39;00m func(\u001b[38;5;241m*\u001b[39margs, \u001b[38;5;241m*\u001b[39m\u001b[38;5;241m*\u001b[39mkwargs)\n",
      "File \u001b[1;32mF:\\anaconda\\envs\\datpra\\lib\\site-packages\\pandas\\core\\generic.py:4505\u001b[0m, in \u001b[0;36mNDFrame.drop\u001b[1;34m(self, labels, axis, index, columns, level, inplace, errors)\u001b[0m\n\u001b[0;32m   4503\u001b[0m \u001b[38;5;28;01mfor\u001b[39;00m axis, labels \u001b[38;5;129;01min\u001b[39;00m axes\u001b[38;5;241m.\u001b[39mitems():\n\u001b[0;32m   4504\u001b[0m     \u001b[38;5;28;01mif\u001b[39;00m labels \u001b[38;5;129;01mis\u001b[39;00m \u001b[38;5;129;01mnot\u001b[39;00m \u001b[38;5;28;01mNone\u001b[39;00m:\n\u001b[1;32m-> 4505\u001b[0m         obj \u001b[38;5;241m=\u001b[39m \u001b[43mobj\u001b[49m\u001b[38;5;241;43m.\u001b[39;49m\u001b[43m_drop_axis\u001b[49m\u001b[43m(\u001b[49m\u001b[43mlabels\u001b[49m\u001b[43m,\u001b[49m\u001b[43m \u001b[49m\u001b[43maxis\u001b[49m\u001b[43m,\u001b[49m\u001b[43m \u001b[49m\u001b[43mlevel\u001b[49m\u001b[38;5;241;43m=\u001b[39;49m\u001b[43mlevel\u001b[49m\u001b[43m,\u001b[49m\u001b[43m \u001b[49m\u001b[43merrors\u001b[49m\u001b[38;5;241;43m=\u001b[39;49m\u001b[43merrors\u001b[49m\u001b[43m)\u001b[49m\n\u001b[0;32m   4507\u001b[0m \u001b[38;5;28;01mif\u001b[39;00m inplace:\n\u001b[0;32m   4508\u001b[0m     \u001b[38;5;28mself\u001b[39m\u001b[38;5;241m.\u001b[39m_update_inplace(obj)\n",
      "File \u001b[1;32mF:\\anaconda\\envs\\datpra\\lib\\site-packages\\pandas\\core\\generic.py:4546\u001b[0m, in \u001b[0;36mNDFrame._drop_axis\u001b[1;34m(self, labels, axis, level, errors, only_slice)\u001b[0m\n\u001b[0;32m   4544\u001b[0m         new_axis \u001b[38;5;241m=\u001b[39m axis\u001b[38;5;241m.\u001b[39mdrop(labels, level\u001b[38;5;241m=\u001b[39mlevel, errors\u001b[38;5;241m=\u001b[39merrors)\n\u001b[0;32m   4545\u001b[0m     \u001b[38;5;28;01melse\u001b[39;00m:\n\u001b[1;32m-> 4546\u001b[0m         new_axis \u001b[38;5;241m=\u001b[39m \u001b[43maxis\u001b[49m\u001b[38;5;241;43m.\u001b[39;49m\u001b[43mdrop\u001b[49m\u001b[43m(\u001b[49m\u001b[43mlabels\u001b[49m\u001b[43m,\u001b[49m\u001b[43m \u001b[49m\u001b[43merrors\u001b[49m\u001b[38;5;241;43m=\u001b[39;49m\u001b[43merrors\u001b[49m\u001b[43m)\u001b[49m\n\u001b[0;32m   4547\u001b[0m     indexer \u001b[38;5;241m=\u001b[39m axis\u001b[38;5;241m.\u001b[39mget_indexer(new_axis)\n\u001b[0;32m   4549\u001b[0m \u001b[38;5;66;03m# Case for non-unique axis\u001b[39;00m\n\u001b[0;32m   4550\u001b[0m \u001b[38;5;28;01melse\u001b[39;00m:\n",
      "File \u001b[1;32mF:\\anaconda\\envs\\datpra\\lib\\site-packages\\pandas\\core\\indexes\\base.py:6977\u001b[0m, in \u001b[0;36mIndex.drop\u001b[1;34m(self, labels, errors)\u001b[0m\n\u001b[0;32m   6975\u001b[0m \u001b[38;5;28;01mif\u001b[39;00m mask\u001b[38;5;241m.\u001b[39many():\n\u001b[0;32m   6976\u001b[0m     \u001b[38;5;28;01mif\u001b[39;00m errors \u001b[38;5;241m!=\u001b[39m \u001b[38;5;124m\"\u001b[39m\u001b[38;5;124mignore\u001b[39m\u001b[38;5;124m\"\u001b[39m:\n\u001b[1;32m-> 6977\u001b[0m         \u001b[38;5;28;01mraise\u001b[39;00m \u001b[38;5;167;01mKeyError\u001b[39;00m(\u001b[38;5;124mf\u001b[39m\u001b[38;5;124m\"\u001b[39m\u001b[38;5;132;01m{\u001b[39;00m\u001b[38;5;28mlist\u001b[39m(labels[mask])\u001b[38;5;132;01m}\u001b[39;00m\u001b[38;5;124m not found in axis\u001b[39m\u001b[38;5;124m\"\u001b[39m)\n\u001b[0;32m   6978\u001b[0m     indexer \u001b[38;5;241m=\u001b[39m indexer[\u001b[38;5;241m~\u001b[39mmask]\n\u001b[0;32m   6979\u001b[0m \u001b[38;5;28;01mreturn\u001b[39;00m \u001b[38;5;28mself\u001b[39m\u001b[38;5;241m.\u001b[39mdelete(indexer)\n",
      "\u001b[1;31mKeyError\u001b[0m: \"['label3'] not found in axis\""
     ]
    }
   ],
   "source": [
    "#Merged df with cluster data from new_df\n",
    "sg_df = df.merge(new_df, how='left', on='CustomerID')\n",
    "sg_df.drop(['label3','Age_y','Annual Income (k$)_y','Spending Score (1-100)_y','Gender_encoding_y'],axis=1,inplace=True)\n",
    "sg_df"
   ]
  },
  {
   "cell_type": "code",
   "execution_count": null,
   "id": "43461eef",
   "metadata": {
    "execution": {
     "iopub.execute_input": "2023-05-31T03:27:20.348540Z",
     "iopub.status.busy": "2023-05-31T03:27:20.347378Z",
     "iopub.status.idle": "2023-05-31T03:27:20.364040Z",
     "shell.execute_reply": "2023-05-31T03:27:20.363179Z"
    },
    "papermill": {
     "duration": 0.031393,
     "end_time": "2023-05-31T03:27:20.365652",
     "exception": false,
     "start_time": "2023-05-31T03:27:20.334259",
     "status": "completed"
    },
    "tags": []
   },
   "outputs": [],
   "source": [
    "#Create Grouping for Spending Score\n",
    "#Spending Score is something you assign to the customer based on your defined parameters like customer behavior and purchasing data.\n",
    "\n",
    "#1-19: 1-star\n",
    "#20-39: 2-star\n",
    "#40-59: 3-star\n",
    "#60-79: 4-star\n",
    "#80-100: 5-star\n",
    "\n",
    "# Define the bin edges for the groups\n",
    "bin_edges = [0, 20, 40, 60, 80, 100]\n",
    "\n",
    "# Create a new column 'Group' that represents the group for each score\n",
    "sg_df['Spending Score Stars'] = pd.cut(sg_df['Spending Score (1-100)_x'], bins=bin_edges, labels=['1-star', '2-star', '3-star', '4-star', '5-star'])\n",
    "sg_df"
   ]
  },
  {
   "cell_type": "code",
   "execution_count": null,
   "id": "26cc342e",
   "metadata": {
    "execution": {
     "iopub.execute_input": "2023-05-31T03:27:20.391242Z",
     "iopub.status.busy": "2023-05-31T03:27:20.390469Z",
     "iopub.status.idle": "2023-05-31T03:27:20.399695Z",
     "shell.execute_reply": "2023-05-31T03:27:20.399057Z"
    },
    "papermill": {
     "duration": 0.023764,
     "end_time": "2023-05-31T03:27:20.401323",
     "exception": false,
     "start_time": "2023-05-31T03:27:20.377559",
     "status": "completed"
    },
    "tags": []
   },
   "outputs": [],
   "source": [
    "#Count of user in each cluster\n",
    "sg_df.groupby('cluster')['CustomerID'].agg(['count'])"
   ]
  },
  {
   "cell_type": "code",
   "execution_count": null,
   "id": "1da67106",
   "metadata": {
    "execution": {
     "iopub.execute_input": "2023-05-31T03:27:20.427484Z",
     "iopub.status.busy": "2023-05-31T03:27:20.426623Z",
     "iopub.status.idle": "2023-05-31T03:27:20.442749Z",
     "shell.execute_reply": "2023-05-31T03:27:20.441821Z"
    },
    "papermill": {
     "duration": 0.031064,
     "end_time": "2023-05-31T03:27:20.444504",
     "exception": false,
     "start_time": "2023-05-31T03:27:20.413440",
     "status": "completed"
    },
    "tags": []
   },
   "outputs": [],
   "source": [
    "#Count of user gender in each cluster\n",
    "gender = sg_df.groupby(['cluster','Gender'])['CustomerID'].count()\n",
    "pd.DataFrame(data=gender).sort_values(by=['cluster','CustomerID'],ascending=True)"
   ]
  },
  {
   "cell_type": "code",
   "execution_count": null,
   "id": "b03594fd",
   "metadata": {
    "execution": {
     "iopub.execute_input": "2023-05-31T03:27:20.471483Z",
     "iopub.status.busy": "2023-05-31T03:27:20.470376Z",
     "iopub.status.idle": "2023-05-31T03:27:20.485730Z",
     "shell.execute_reply": "2023-05-31T03:27:20.484781Z"
    },
    "papermill": {
     "duration": 0.030415,
     "end_time": "2023-05-31T03:27:20.487426",
     "exception": false,
     "start_time": "2023-05-31T03:27:20.457011",
     "status": "completed"
    },
    "tags": []
   },
   "outputs": [],
   "source": [
    "#Find mean, max, and min value in age of every cluster\n",
    "sg_df.groupby(['cluster'])['Age_x'].agg(['mean','max','min'])"
   ]
  },
  {
   "cell_type": "code",
   "execution_count": null,
   "id": "09bb6347",
   "metadata": {
    "execution": {
     "iopub.execute_input": "2023-05-31T03:27:20.513742Z",
     "iopub.status.busy": "2023-05-31T03:27:20.513412Z",
     "iopub.status.idle": "2023-05-31T03:27:20.524741Z",
     "shell.execute_reply": "2023-05-31T03:27:20.523621Z"
    },
    "papermill": {
     "duration": 0.027047,
     "end_time": "2023-05-31T03:27:20.526941",
     "exception": false,
     "start_time": "2023-05-31T03:27:20.499894",
     "status": "completed"
    },
    "tags": []
   },
   "outputs": [],
   "source": [
    "#Find sum, average, min, and max Annual Income (k$) on each cluster\n",
    "sg_df.groupby(['cluster'])['Annual Income (k$)_x'].agg(['sum','mean','max','min'])"
   ]
  },
  {
   "cell_type": "code",
   "execution_count": null,
   "id": "1380db57",
   "metadata": {
    "execution": {
     "iopub.execute_input": "2023-05-31T03:27:20.554605Z",
     "iopub.status.busy": "2023-05-31T03:27:20.554045Z",
     "iopub.status.idle": "2023-05-31T03:27:20.571217Z",
     "shell.execute_reply": "2023-05-31T03:27:20.570214Z"
    },
    "papermill": {
     "duration": 0.032548,
     "end_time": "2023-05-31T03:27:20.572894",
     "exception": false,
     "start_time": "2023-05-31T03:27:20.540346",
     "status": "completed"
    },
    "tags": []
   },
   "outputs": [],
   "source": [
    "#Count each spending score star in each cluster\n",
    "star = sg_df.groupby(['cluster','Spending Score Stars'])['CustomerID'].count()\n",
    "pd.DataFrame(data=star).sort_values(by=['cluster','CustomerID'])"
   ]
  },
  {
   "cell_type": "markdown",
   "id": "caac6256",
   "metadata": {
    "papermill": {
     "duration": 0.012688,
     "end_time": "2023-05-31T03:27:20.598623",
     "exception": false,
     "start_time": "2023-05-31T03:27:20.585935",
     "status": "completed"
    },
    "tags": []
   },
   "source": [
    "**Cluster 0**\n",
    "*     Customer count: 34\n",
    "*     Gender: 19 Male, 15 Female\n",
    "*     Average age: 42\n",
    "*     Average annual income:$88.7\n",
    "*     Spending score star:1-star 24, 2-star 10\n",
    "\n",
    "\n"
   ]
  },
  {
   "cell_type": "markdown",
   "id": "65a76925",
   "metadata": {
    "papermill": {
     "duration": 0.013133,
     "end_time": "2023-05-31T03:27:20.624517",
     "exception": false,
     "start_time": "2023-05-31T03:27:20.611384",
     "status": "completed"
    },
    "tags": []
   },
   "source": [
    "**Cluster 1**\n",
    "*     Customer count: 23\n",
    "*     Gender: 9 Male, 14 Female\n",
    "*     Average age: 26\n",
    "*     Average annual income:$26.3\n",
    "*     Spending score star: 5-star 9, 4-star 14\n",
    "\n"
   ]
  },
  {
   "cell_type": "markdown",
   "id": "36aaa15a",
   "metadata": {
    "papermill": {
     "duration": 0.012645,
     "end_time": "2023-05-31T03:27:20.650015",
     "exception": false,
     "start_time": "2023-05-31T03:27:20.637370",
     "status": "completed"
    },
    "tags": []
   },
   "source": [
    "**Cluster 2**\n",
    "*     Customer count: 43\n",
    "*     Gender: 18 Male, 25 Female\n",
    "*     Average age:46\n",
    "*     Average annual income:$48.6\n",
    "*     Spending score star:3-star\n",
    "\n"
   ]
  },
  {
   "cell_type": "markdown",
   "id": "d7c32992",
   "metadata": {
    "papermill": {
     "duration": 0.012393,
     "end_time": "2023-05-31T03:27:20.674913",
     "exception": false,
     "start_time": "2023-05-31T03:27:20.662520",
     "status": "completed"
    },
    "tags": []
   },
   "source": [
    "**Cluster 3**\n",
    "*     Customer count: 46\n",
    "*     Gender: 20 Male, 26 Female\n",
    "*     Average age: 38\n",
    "*     Average annual income:$65\n",
    "*     Spending score star:2-star 6, 3-star 32, 4-star 6, 5-star 2\n",
    "\n"
   ]
  },
  {
   "cell_type": "markdown",
   "id": "5ef3a430",
   "metadata": {
    "papermill": {
     "duration": 0.012813,
     "end_time": "2023-05-31T03:27:20.700627",
     "exception": false,
     "start_time": "2023-05-31T03:27:20.687814",
     "status": "completed"
    },
    "tags": []
   },
   "source": [
    "**Cluster 4**\n",
    "*     Customer count: 31\n",
    "*     Gender: 13 Male, 18 Female\n",
    "*     Average age: 32\n",
    "*     Average annual income:$90.5\n",
    "*     Spending score star: 4-star 12, 5-star 19\n"
   ]
  },
  {
   "cell_type": "markdown",
   "id": "519492c7",
   "metadata": {
    "papermill": {
     "duration": 0.012685,
     "end_time": "2023-05-31T03:27:20.726422",
     "exception": false,
     "start_time": "2023-05-31T03:27:20.713737",
     "status": "completed"
    },
    "tags": []
   },
   "source": [
    "**Cluster 5**\n",
    "*     Customer count: 23\n",
    "*     Gender: 9 Male, 14 Female\n",
    "*     Average age: 45\n",
    "*     Average annual income:$26.3\n",
    "*     Spending score star: 1-star 12, 2-star 11"
   ]
  },
  {
   "cell_type": "code",
   "execution_count": null,
   "id": "a45a6c52",
   "metadata": {},
   "outputs": [],
   "source": []
  }
 ],
 "metadata": {
  "kernelspec": {
   "display_name": "Python 3 (ipykernel)",
   "language": "python",
   "name": "python3"
  },
  "language_info": {
   "codemirror_mode": {
    "name": "ipython",
    "version": 3
   },
   "file_extension": ".py",
   "mimetype": "text/x-python",
   "name": "python",
   "nbconvert_exporter": "python",
   "pygments_lexer": "ipython3",
   "version": "3.9.15"
  },
  "papermill": {
   "default_parameters": {},
   "duration": 18.414006,
   "end_time": "2023-05-31T03:27:21.760842",
   "environment_variables": {},
   "exception": null,
   "input_path": "__notebook__.ipynb",
   "output_path": "__notebook__.ipynb",
   "parameters": {},
   "start_time": "2023-05-31T03:27:03.346836",
   "version": "2.4.0"
  }
 },
 "nbformat": 4,
 "nbformat_minor": 5
}
